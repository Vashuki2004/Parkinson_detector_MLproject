{
  "nbformat": 4,
  "nbformat_minor": 0,
  "metadata": {
    "colab": {
      "provenance": [],
      "authorship_tag": "ABX9TyMMELu+NSHzNJB2jRPlus95",
      "include_colab_link": true
    },
    "kernelspec": {
      "name": "python3",
      "display_name": "Python 3"
    },
    "language_info": {
      "name": "python"
    }
  },
  "cells": [
    {
      "cell_type": "markdown",
      "metadata": {
        "id": "view-in-github",
        "colab_type": "text"
      },
      "source": [
        "<a href=\"https://colab.research.google.com/github/Vashuki2004/Parkinson_detector_MLproject/blob/main/ParkisonDetector.ipynb\" target=\"_parent\"><img src=\"https://colab.research.google.com/assets/colab-badge.svg\" alt=\"Open In Colab\"/></a>"
      ]
    },
    {
      "cell_type": "markdown",
      "source": [
        "hi my name is vashuki"
      ],
      "metadata": {
        "id": "PB0LZokuzW2w"
      }
    },
    {
      "cell_type": "markdown",
      "source": [],
      "metadata": {
        "id": "ossUIAgVziQs"
      }
    },
    {
      "cell_type": "code",
      "source": [
        "buoevqfpbiqeyruovqevueqrvueqbberiybebv\n",
        "ufqvouyev\n",
        "vboqufvb\n",
        "qreviuy\n",
        "uyqfv\n",
        "uyevirv"
      ],
      "metadata": {
        "id": "Pn0Ka9Amzibf"
      },
      "execution_count": null,
      "outputs": []
    }
  ]
}